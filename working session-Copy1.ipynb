{
 "cells": [
  {
   "cell_type": "markdown",
   "metadata": {
    "toc": true
   },
   "source": [
    "<h1>Table of Contents<span class=\"tocSkip\"></span></h1>\n",
    "<div class=\"toc\"><ul class=\"toc-item\"></ul></div>"
   ]
  },
  {
   "cell_type": "code",
   "execution_count": 4,
   "metadata": {
    "ExecuteTime": {
     "end_time": "2021-11-16T01:39:19.545285Z",
     "start_time": "2021-11-16T01:38:44.883043Z"
    }
   },
   "outputs": [
    {
     "name": "stderr",
     "output_type": "stream",
     "text": [
      "[WDM] - ====== WebDriver manager ======\n",
      "[WDM] - Current google-chrome version is 93.0.4577\n",
      "[WDM] - Get LATEST driver version for 93.0.4577\n"
     ]
    },
    {
     "name": "stdout",
     "output_type": "stream",
     "text": [
      "\n",
      "\n"
     ]
    },
    {
     "name": "stderr",
     "output_type": "stream",
     "text": [
      "[WDM] - Driver [C:\\Users\\jay.yu\\.wdm\\drivers\\chromedriver\\win32\\93.0.4577.63\\chromedriver.exe] found in cache\n"
     ]
    }
   ],
   "source": [
    "from splinter import Browser\n",
    "from bs4 import BeautifulSoup as soup\n",
    "import pandas as pd\n",
    "from webdriver_manager.chrome import ChromeDriverManager\n",
    "\n",
    "executable_path = {'executable_path': ChromeDriverManager().install()}\n",
    "browser = Browser('chrome', **executable_path, headless=False)\n",
    "\n",
    "# First website\n",
    "url = 'https://redplanetscience.com/'\n",
    "browser.visit(url)\n",
    "html = browser.html\n",
    "\n",
    "news_soup = soup(html, 'html.parser')\n",
    "\n",
    "news_title = news_soup.find('div', class_='content_title').text\n",
    "news_paragraph = news_soup.find('div', class_='article_teaser_body').text\n",
    "\n",
    "# Second website\n",
    "url = 'https://spaceimages-mars.com'\n",
    "browser.visit(url)\n",
    "html = browser.html\n",
    "\n",
    "img_soup = soup(html, 'html.parser')\n",
    "img_end_point = img_soup.find('img', class_='headerimage fade-in')['src']\n",
    "\n",
    "img_url = url + '/' + img_end_point\n",
    "\n",
    "# Third website\n",
    "url = 'https://galaxyfacts-mars.com/'\n",
    "table = pd.read_html(url)[0].to_html()\n",
    "\n",
    "# Fourth website\n",
    "base_url = 'https://marshemispheres.com'\n",
    "browser.visit(base_url)\n",
    "html = browser.html\n",
    "\n",
    "hemisphere_first_page_soup = soup(html, 'html.parser')\n",
    "\n",
    "found_result_list = hemisphere_first_page_soup.find_all('a', class_='itemLink product-item')\n",
    "\n",
    "list_of_hemisphere_pages = []\n",
    "\n",
    "for tag in found_result_list:\n",
    "    if tag['href'] == '#': continue\n",
    "    else: list_of_hemisphere_pages.append(base_url + '/' + tag['href'])\n",
    "    \n",
    "list_of_hemisphere_pages = list(set(list_of_hemisphere_pages))\n",
    "\n",
    "list_of_hemisphere_dictionaries = []\n",
    "\n",
    "for url in list_of_hemisphere_pages:\n",
    "    browser.visit(url)\n",
    "    html = browser.html\n",
    "\n",
    "    hemisphere_soup = soup(html, 'html.parser')\n",
    "    hemisphere_img_end = hemisphere_soup.find_all('a', {'target':'_blank'})[2]['href']\n",
    "    \n",
    "    full_url = base_url + '/' + hemisphere_img_end\n",
    "    hemisphere_title = hemisphere_soup.find('h2', class_='title').text\n",
    "    \n",
    "    dummy_dictionary = {hemisphere_title: full_url}\n",
    "    list_of_hemisphere_dictionaries.append(dummy_dictionary)\n",
    "    \n",
    "browser.quit()"
   ]
  },
  {
   "cell_type": "code",
   "execution_count": 5,
   "metadata": {
    "ExecuteTime": {
     "end_time": "2021-11-16T01:39:19.675586Z",
     "start_time": "2021-11-16T01:39:19.667623Z"
    }
   },
   "outputs": [
    {
     "data": {
      "text/plain": [
       "{'news_title': 'The MarCO Mission Comes to an End',\n",
       " 'news_paragraph': 'The pair of briefcase-sized satellites made history when they sailed past Mars in 2019.',\n",
       " 'img_url': 'https://spaceimages-mars.com/image/featured/mars1.jpg',\n",
       " 'table': '<table border=\"1\" class=\"dataframe\">\\n  <thead>\\n    <tr style=\"text-align: right;\">\\n      <th></th>\\n      <th>0</th>\\n      <th>1</th>\\n      <th>2</th>\\n    </tr>\\n  </thead>\\n  <tbody>\\n    <tr>\\n      <th>0</th>\\n      <td>Mars - Earth Comparison</td>\\n      <td>Mars</td>\\n      <td>Earth</td>\\n    </tr>\\n    <tr>\\n      <th>1</th>\\n      <td>Diameter:</td>\\n      <td>6,779 km</td>\\n      <td>12,742 km</td>\\n    </tr>\\n    <tr>\\n      <th>2</th>\\n      <td>Mass:</td>\\n      <td>6.39 × 10^23 kg</td>\\n      <td>5.97 × 10^24 kg</td>\\n    </tr>\\n    <tr>\\n      <th>3</th>\\n      <td>Moons:</td>\\n      <td>2</td>\\n      <td>1</td>\\n    </tr>\\n    <tr>\\n      <th>4</th>\\n      <td>Distance from Sun:</td>\\n      <td>227,943,824 km</td>\\n      <td>149,598,262 km</td>\\n    </tr>\\n    <tr>\\n      <th>5</th>\\n      <td>Length of Year:</td>\\n      <td>687 Earth days</td>\\n      <td>365.24 days</td>\\n    </tr>\\n    <tr>\\n      <th>6</th>\\n      <td>Temperature:</td>\\n      <td>-87 to -5 °C</td>\\n      <td>-88 to 58°C</td>\\n    </tr>\\n  </tbody>\\n</table>',\n",
       " 'list_of_hemisphere_dictionaries': [{'Cerberus Hemisphere Enhanced': 'https://marshemispheres.com/images/full.jpg'},\n",
       "  {'Valles Marineris Hemisphere Enhanced': 'https://marshemispheres.com/images/valles_marineris_enhanced-full.jpg'},\n",
       "  {'Schiaparelli Hemisphere Enhanced': 'https://marshemispheres.com/images/schiaparelli_enhanced-full.jpg'},\n",
       "  {'Syrtis Major Hemisphere Enhanced': 'https://marshemispheres.com/images/syrtis_major_enhanced-full.jpg'}]}"
      ]
     },
     "execution_count": 5,
     "metadata": {},
     "output_type": "execute_result"
    }
   ],
   "source": [
    "mongo_dictionary = {\n",
    "    'news_title': news_title,\n",
    "    'news_paragraph': news_paragraph,\n",
    "    'img_url': img_url,\n",
    "    'table': table,\n",
    "    'list_of_hemisphere_dictionaries': list_of_hemisphere_dictionaries\n",
    "}\n",
    "\n",
    "mongo_dictionary"
   ]
  }
 ],
 "metadata": {
  "hide_input": false,
  "kernelspec": {
   "display_name": "Python 3",
   "language": "python",
   "name": "python3"
  },
  "language_info": {
   "codemirror_mode": {
    "name": "ipython",
    "version": 3
   },
   "file_extension": ".py",
   "mimetype": "text/x-python",
   "name": "python",
   "nbconvert_exporter": "python",
   "pygments_lexer": "ipython3",
   "version": "3.7.4"
  },
  "toc": {
   "base_numbering": 1,
   "nav_menu": {},
   "number_sections": true,
   "sideBar": true,
   "skip_h1_title": false,
   "title_cell": "Table of Contents",
   "title_sidebar": "Contents",
   "toc_cell": true,
   "toc_position": {},
   "toc_section_display": true,
   "toc_window_display": false
  },
  "varInspector": {
   "cols": {
    "lenName": 16,
    "lenType": 16,
    "lenVar": 40
   },
   "kernels_config": {
    "python": {
     "delete_cmd_postfix": "",
     "delete_cmd_prefix": "del ",
     "library": "var_list.py",
     "varRefreshCmd": "print(var_dic_list())"
    },
    "r": {
     "delete_cmd_postfix": ") ",
     "delete_cmd_prefix": "rm(",
     "library": "var_list.r",
     "varRefreshCmd": "cat(var_dic_list()) "
    }
   },
   "types_to_exclude": [
    "module",
    "function",
    "builtin_function_or_method",
    "instance",
    "_Feature"
   ],
   "window_display": false
  }
 },
 "nbformat": 4,
 "nbformat_minor": 2
}
